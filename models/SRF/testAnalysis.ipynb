{
 "cells": [
  {
   "metadata": {},
   "cell_type": "markdown",
   "source": "Identifiziere die Anzahl transkribierten Shows:",
   "id": "c76c5cfaee0641ad"
  },
  {
   "metadata": {
    "collapsed": true,
    "ExecuteTime": {
     "end_time": "2025-04-15T03:53:20.833098Z",
     "start_time": "2025-04-15T03:53:20.825781Z"
    }
   },
   "cell_type": "code",
   "source": [
    "import os\n",
    "\n",
    "current_dir = os.getcwd()\n",
    "path = f\"{current_dir}/data/srfArena\"\n",
    "# fileList = [f for f in os.listdir(path) if os.path.isfile(os.path.join(path, f))]\n",
    "\n",
    "filtered_files = [\n",
    "    f for f in os.listdir(path)\n",
    "    if f.startswith(\"arena_\") and not (f.endswith(\"_meta.txt\") or f.endswith(\"_zusatz.txt\"))\n",
    "]\n",
    "\n",
    "print(\"Anzahl transkribierte SRF-Arena Shows: \")\n",
    "print(len(filtered_files))\n",
    "\n",
    "print(filtered_files[1])"
   ],
   "id": "initial_id",
   "outputs": [
    {
     "name": "stdout",
     "output_type": "stream",
     "text": [
      "Anzahl transkribierte SRF-Arena Shows: \n",
      "156\n",
      "arena_2017-06-09_Di.txt\n"
     ]
    }
   ],
   "execution_count": 14
  }
 ],
 "metadata": {
  "kernelspec": {
   "display_name": "Python 3",
   "language": "python",
   "name": "python3"
  },
  "language_info": {
   "codemirror_mode": {
    "name": "ipython",
    "version": 2
   },
   "file_extension": ".py",
   "mimetype": "text/x-python",
   "name": "python",
   "nbconvert_exporter": "python",
   "pygments_lexer": "ipython2",
   "version": "2.7.6"
  }
 },
 "nbformat": 4,
 "nbformat_minor": 5
}
